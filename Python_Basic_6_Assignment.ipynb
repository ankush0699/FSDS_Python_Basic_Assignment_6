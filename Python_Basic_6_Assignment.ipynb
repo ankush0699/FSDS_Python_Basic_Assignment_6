{
 "cells": [
  {
   "cell_type": "code",
   "execution_count": 6,
   "metadata": {},
   "outputs": [],
   "source": [
    "# Name: Ankush shukla       e-mail: ankushshukla0612@gmail.com\n",
    "\n",
    "#Python Basic Assignment 6"
   ]
  },
  {
   "cell_type": "code",
   "execution_count": 7,
   "metadata": {},
   "outputs": [
    {
     "name": "stdout",
     "output_type": "stream",
     "text": [
      "['False', 'None', 'True', 'and', 'as', 'assert', 'async', 'await', 'break', 'class', 'continue', 'def', 'del', 'elif', 'else', 'except', 'finally', 'for', 'from', 'global', 'if', 'import', 'in', 'is', 'lambda', 'nonlocal', 'not', 'or', 'pass', 'raise', 'return', 'try', 'while', 'with', 'yield']\n"
     ]
    }
   ],
   "source": [
    "#Answer:\n",
    "\n",
    "\"\"\"\n",
    "\n",
    "In Python, keywords are reserved words that have special meanings and cannot be used as identifiers \n",
    "(such as variable names, function names, etc.) because they are an integral part of the language's syntax and functionality.\n",
    "   \n",
    "Keywords are used to define the structure and flow of Python programs.\n",
    "\"\"\"\n",
    "# accessing all the keywords using keyword library:\n",
    "\n",
    "import keyword\n",
    "\n",
    "keywords = keyword.kwlist\n",
    "\n",
    "print(keywords)\n",
    "\n"
   ]
  },
  {
   "cell_type": "code",
   "execution_count": 8,
   "metadata": {},
   "outputs": [],
   "source": [
    "#Question_2:  What are the rules to create variables in python?"
   ]
  },
  {
   "cell_type": "code",
   "execution_count": 9,
   "metadata": {},
   "outputs": [
    {
     "data": {
      "text/plain": [
       "'\\nVariable names must start with a letter (a-z, A-Z) or an underscore (_) but it can not start with digits.\\nThe subsequent characters in a variable name can include letters, digits (0-9), and underscores.\\nVariable names are case-sensitive, meaning Variable and variable are considered different variables.\\n\\n'"
      ]
     },
     "execution_count": 9,
     "metadata": {},
     "output_type": "execute_result"
    }
   ],
   "source": [
    "#Answer:\n",
    "\"\"\"\n",
    "Variable names must start with a letter (a-z, A-Z) or an underscore (_) but it can not start with digits.\n",
    "The subsequent characters in a variable name can include letters, digits (0-9), and underscores.\n",
    "Variable names are case-sensitive, meaning Variable and variable are considered different variables.\n",
    "\n",
    "\"\"\""
   ]
  },
  {
   "cell_type": "code",
   "execution_count": 10,
   "metadata": {},
   "outputs": [],
   "source": [
    "#Question_3:  What are the standards and conventions followed for the nomenclature of variables in\n",
    "#             python to improve code readability and maintainability?"
   ]
  },
  {
   "cell_type": "code",
   "execution_count": 11,
   "metadata": {},
   "outputs": [],
   "source": [
    "#Answer:\n",
    "\n",
    "\"\"\"Python has established naming conventions and standards to improve code readability and maintainability. \n",
    "   These conventions are outlined in Python Enhancement Proposal 8 (PEP 8), which is the style guide for Python code. \n",
    "   Adhering to PEP 8 recommendations for variable naming is considered best practice. \n",
    "   \n",
    "   Here are some key points and conventions for naming variables in Python:\n",
    "\n",
    "1. Use Descriptive Names:\n",
    "   - Choose variable names that are descriptive and indicate the purpose of the variable. Avoid using overly short or cryptic names.\n",
    "\n",
    "2. Use Lowercase Letters:\n",
    "   - Variable names should use lowercase letters. For example, `counter`, `name`, `temperature`.\n",
    "\n",
    "3. Use Underscores for Readability:\n",
    "   - Use underscores (`_`) to separate words in variable names. This is known as \"snake_case.\" \n",
    "     For example, `first_name`, `total_count`.\n",
    "\n",
    "4. Avoid Single-Character Names:\n",
    "   - Avoid using single-character variable names except for common conventions like `i`, `j`, and `k` in loops. Use meaningful names instead.\n",
    "\n",
    "5. Constants in Uppercase:\n",
    "   - Constants should be named using all uppercase letters with underscores to separate words. \n",
    "     For example, `PI`, `MAX_VALUE`.\n",
    "\n",
    "6. Class Names in CamelCase:\n",
    "   - Class names should follow the \"CapWords\" convention, also known as \"CamelCase,\" where each word is capitalized without underscores. \n",
    "     For example, `MyClass`, `PersonInfo`.\n",
    "\n",
    "7. Module-Level Constants:\n",
    "   - If a variable is intended to be a constant at the module level, use uppercase letters with underscores to indicate this. \n",
    "     For example, `CONFIG_FILE`, `DEFAULT_TIMEOUT`.\n",
    "\n",
    "8. Private Variables:\n",
    "   - To indicate that a variable is private (should not be accessed directly from outside the class or module), prefix it with a single underscore. \n",
    "     For example, `_private_variable`.\n",
    "\n",
    "9. Private Variables with Double Underscores:\n",
    "   - For name mangling to make a variable more \"private,\" you can use a double underscore prefix. For example, `__private_var`.\n",
    "\n",
    "10. Avoid Reserved Words:\n",
    "    - Do not use Python's reserved words (keywords) as variable names. For example, avoid naming a variable `if`, `while`, `for`, etc.\n",
    "\n",
    "11. Consistent Naming Across Codebase:\n",
    "    - Maintain consistency in variable naming conventions throughout your codebase. \n",
    "      If you start using snake_case for variables, stick with it consistently.\n",
    "\n",
    "    \"\"\"\n",
    "\n",
    "# Here's an example of code adhering to these conventions:\n",
    "# Constants\n",
    "MAX_RETRY_ATTEMPTS = 3\n",
    "PI = 3.14159\n",
    "\n",
    "# Class definition\n",
    "class MyClass:\n",
    "    def __init__(self, value):\n",
    "        self.value = value\n",
    "\n",
    "    def get_value(self):\n",
    "        return self.value\n",
    "\n",
    "# Function using snake_case\n",
    "def calculate_area(radius):\n",
    "    return PI * radius ** 2\n",
    "\n",
    "# Private variable with a single underscore\n",
    "_private_variable = 42\n"
   ]
  },
  {
   "cell_type": "code",
   "execution_count": 12,
   "metadata": {},
   "outputs": [],
   "source": [
    "#Question_4:  What will happen if a keyword is used as a variable name?"
   ]
  },
  {
   "cell_type": "code",
   "execution_count": 13,
   "metadata": {},
   "outputs": [
    {
     "ename": "SyntaxError",
     "evalue": "invalid syntax (3405755528.py, line 5)",
     "output_type": "error",
     "traceback": [
      "\u001b[1;36m  Cell \u001b[1;32mIn[13], line 5\u001b[1;36m\u001b[0m\n\u001b[1;33m    if = 5\u001b[0m\n\u001b[1;37m       ^\u001b[0m\n\u001b[1;31mSyntaxError\u001b[0m\u001b[1;31m:\u001b[0m invalid syntax\n"
     ]
    }
   ],
   "source": [
    "#Answer:\n",
    "\n",
    "#If we use a keyword as a variable name in Python, it will result in a syntax error.\n",
    "\n",
    "if = 5"
   ]
  },
  {
   "cell_type": "code",
   "execution_count": null,
   "metadata": {},
   "outputs": [],
   "source": [
    "#Question_5:  For what purpose def keyword is used?"
   ]
  },
  {
   "cell_type": "code",
   "execution_count": null,
   "metadata": {},
   "outputs": [],
   "source": [
    "#Answer:   def keyword is used to create a user defined function."
   ]
  },
  {
   "cell_type": "code",
   "execution_count": null,
   "metadata": {},
   "outputs": [],
   "source": [
    "#Question_6:  What is the operation of this special character ‘\\’?"
   ]
  },
  {
   "cell_type": "code",
   "execution_count": null,
   "metadata": {},
   "outputs": [],
   "source": [
    "#Answer: \n",
    "\n",
    "\"\"\" \n",
    "    The backslash (\\) is used as an escape character. The backslash is used before certain characters to indicate that \n",
    "    they have a special meaning and should be treated differently. This process is known as \"escaping\" the character.\n",
    "\n",
    "\"\"\""
   ]
  },
  {
   "cell_type": "code",
   "execution_count": null,
   "metadata": {},
   "outputs": [],
   "source": [
    "#Question_7:  Give an example of the following conditions:\n",
    "#             (i) Homogeneous list\n",
    "#             (ii) Heterogeneous set\n",
    "#             (iii) Homogeneous tuple  "
   ]
  },
  {
   "cell_type": "code",
   "execution_count": null,
   "metadata": {},
   "outputs": [],
   "source": [
    "#Answer: \n",
    "\n",
    "homogeneous_list = [1, 2, 3, 4, 5]\n",
    "\n",
    "heterogeneous_set = {1, \"apple\", 3.14, (1, 2)}\n",
    "\n",
    "homogeneous_tuple = (\"apple\", \"banana\", \"cherry\", \"date\")\n",
    "\n"
   ]
  },
  {
   "cell_type": "code",
   "execution_count": null,
   "metadata": {},
   "outputs": [],
   "source": [
    "#Question_8:  Explain the mutable and immutable data types with proper explanation & examples.  "
   ]
  },
  {
   "cell_type": "code",
   "execution_count": null,
   "metadata": {},
   "outputs": [],
   "source": [
    "#Answer: \n",
    "\n",
    "\"\"\"  Mutable data type:  List is an mutable data type. This type of data type whose values can be modified after they are created. \n",
    "                         When you perform operations that modify a mutable object, it directly affects the same object without creating \n",
    "                         a new oneWe can add, change and remove elements from list.\n",
    "\"\"\"\n",
    "  \n",
    "my_list = [1, 2, 3]\n",
    "print(my_list) \n",
    "my_list.append(4)  # Modifies the original list by adding 4 to it at the end of list.\n",
    "print(my_list)     \n",
    "\n",
    "\n"
   ]
  },
  {
   "cell_type": "code",
   "execution_count": null,
   "metadata": {},
   "outputs": [],
   "source": [
    "\"\"\"\n",
    "Immutable data type: Tuples are immutable data type. Immutable data types are those whose values cannot be \n",
    "                     modified once they are created. When you perform an operation that seems to modify an immutable object, \n",
    "                     it actually creates a new object with the modified value, leaving the original object unchanged. \n",
    "\"\"\"\n",
    "#tuple example:\n",
    "\n",
    "t = (1, 2, 3)   #created a tuple\n",
    "\n",
    "# Attempting to modify t will result in an error:\n",
    "\n",
    "t[0] = 4  \n",
    "\n",
    "# TypeError: 'tuple' object does not support item assignment\n"
   ]
  },
  {
   "cell_type": "code",
   "execution_count": null,
   "metadata": {},
   "outputs": [],
   "source": [
    "#Question_9:  Write a code to create the given structure using only for loop.\n",
    "\"\"\"\n",
    "\n",
    "*\n",
    "***\n",
    "*****\n",
    "*******\n",
    "*********\n",
    "\n",
    "\"\"\""
   ]
  },
  {
   "cell_type": "code",
   "execution_count": null,
   "metadata": {},
   "outputs": [
    {
     "name": "stdout",
     "output_type": "stream",
     "text": [
      "*\n",
      "***\n",
      "*****\n",
      "*******\n",
      "*********\n"
     ]
    }
   ],
   "source": [
    "#Answer:\n",
    "\n",
    "n = 5 #no. of rows for given pattern\n",
    "\n",
    "for i in range(1,n+1):\n",
    "\n",
    "    for j in range(1,2*i):\n",
    "\n",
    "        print('*',end=\"\")\n",
    "\n",
    "    print()\n",
    "\n",
    "\n",
    "\n"
   ]
  },
  {
   "cell_type": "code",
   "execution_count": null,
   "metadata": {},
   "outputs": [],
   "source": [
    "#Question_10:  Write a code to create the given structure using while loop.\n",
    "\"\"\"\n",
    "\n",
    "|||||||||\n",
    " |||||||\n",
    "  |||||\n",
    "   |||\n",
    "    |\n",
    "\n",
    "\n",
    "\"\"\""
   ]
  },
  {
   "cell_type": "code",
   "execution_count": null,
   "metadata": {},
   "outputs": [
    {
     "name": "stdout",
     "output_type": "stream",
     "text": [
      "|||||||||\n",
      " |||||||\n",
      "  |||||\n",
      "   |||\n",
      "    |\n"
     ]
    }
   ],
   "source": [
    "n = 5  # Number of rows for the pattern\n",
    "row = 0   # Initialize the row counter\n",
    "\n",
    "# Outer loop for rows\n",
    "while row < n:\n",
    "    # Inner loop for printing leading spaces\n",
    "    j = 0\n",
    "    while j < i:\n",
    "        print(\" \", end=\"\")\n",
    "        j += 1\n",
    "    \n",
    "    # Inner loop for printing vertical bars\n",
    "    j = 0\n",
    "    while j < 2 * (n - i) - 1:\n",
    "        print(\"|\", end=\"\")\n",
    "        j += 1\n",
    "    \n",
    "    # Move to the next line after printing each row\n",
    "    print()\n",
    "    \n",
    "    i += 1\n"
   ]
  }
 ],
 "metadata": {
  "kernelspec": {
   "display_name": "base",
   "language": "python",
   "name": "python3"
  },
  "language_info": {
   "codemirror_mode": {
    "name": "ipython",
    "version": 3
   },
   "file_extension": ".py",
   "mimetype": "text/x-python",
   "name": "python",
   "nbconvert_exporter": "python",
   "pygments_lexer": "ipython3",
   "version": "3.11.4"
  }
 },
 "nbformat": 4,
 "nbformat_minor": 2
}
